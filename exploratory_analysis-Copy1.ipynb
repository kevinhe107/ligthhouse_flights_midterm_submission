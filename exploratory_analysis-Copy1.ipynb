{
 "cells": [
  {
   "cell_type": "code",
   "execution_count": 3,
   "metadata": {},
   "outputs": [],
   "source": [
    "import pandas as pd\n",
    "import numpy as np\n",
    "import seaborn as sns\n",
    "from scipy.stats import shapiro as sh\n",
    "import matplotlib.pyplot as plt\n",
    "import datetime as dt"
   ]
  },
  {
   "cell_type": "code",
   "execution_count": 2,
   "metadata": {},
   "outputs": [],
   "source": [
    "data = pd.read_csv('all_data.csv')"
   ]
  },
  {
   "cell_type": "markdown",
   "metadata": {},
   "source": [
    "## Exploratory Data Analysis\n",
    "\n",
    "Use this notebook to get familiar with the datasets we have. There is 10 questions we need to answer during the EDA.\n",
    "\n",
    "\n",
    "We shouldn't limit our EDA to these 10 questions. Let's be creative :)."
   ]
  },
  {
   "cell_type": "markdown",
   "metadata": {},
   "source": [
    "#### **Task 1**: Test the hypothesis that the delay is from Normal distribution. and that **mean** of the delay is 0. Be careful about the outliers."
   ]
  },
  {
   "cell_type": "code",
   "execution_count": 3,
   "metadata": {},
   "outputs": [
    {
     "name": "stderr",
     "output_type": "stream",
     "text": [
      "C:\\Users\\kevin\\anaconda3\\lib\\site-packages\\scipy\\stats\\morestats.py:1681: UserWarning: p-value may not be accurate for N > 5000.\n",
      "  warnings.warn(\"p-value may not be accurate for N > 5000.\")\n"
     ]
    },
    {
     "data": {
      "text/plain": [
       "ShapiroResult(statistic=nan, pvalue=1.0)"
      ]
     },
     "execution_count": 3,
     "metadata": {},
     "output_type": "execute_result"
    }
   ],
   "source": [
    "shapiro_test_dep = sh(data.dep_delay)\n",
    "shapiro_test_dep\n",
    "#failed to reject shapiro test"
   ]
  },
  {
   "cell_type": "code",
   "execution_count": 4,
   "metadata": {},
   "outputs": [
    {
     "data": {
      "text/plain": [
       "<AxesSubplot:xlabel='dep_delay', ylabel='Count'>"
      ]
     },
     "execution_count": 4,
     "metadata": {},
     "output_type": "execute_result"
    },
    {
     "data": {
      "image/png": "[encoded data removed]",
      "text/plain": [
       "<Figure size 432x288 with 1 Axes>"
      ]
     },
     "metadata": {
      "needs_background": "light"
     },
     "output_type": "display_data"
    }
   ],
   "source": [
    "sns.histplot(data = data, x='dep_delay', log_scale = False)"
   ]
  },
  {
   "cell_type": "code",
   "execution_count": 5,
   "metadata": {},
   "outputs": [
    {
     "name": "stderr",
     "output_type": "stream",
     "text": [
      "C:\\Users\\kevin\\anaconda3\\lib\\site-packages\\scipy\\stats\\morestats.py:1681: UserWarning: p-value may not be accurate for N > 5000.\n",
      "  warnings.warn(\"p-value may not be accurate for N > 5000.\")\n"
     ]
    },
    {
     "data": {
      "text/plain": [
       "ShapiroResult(statistic=nan, pvalue=1.0)"
      ]
     },
     "execution_count": 5,
     "metadata": {},
     "output_type": "execute_result"
    }
   ],
   "source": [
    "shapiro_test_arr = sh(data.arr_delay)\n",
    "shapiro_test_arr"
   ]
  },
  {
   "cell_type": "code",
   "execution_count": 6,
   "metadata": {},
   "outputs": [
    {
     "data": {
      "text/plain": [
       "<AxesSubplot:xlabel='arr_delay', ylabel='Count'>"
      ]
     },
     "execution_count": 6,
     "metadata": {},
     "output_type": "execute_result"
    },
    {
     "data": {
      "image/png": "[encoded data removed]",
      "text/plain": [
       "<Figure size 432x288 with 1 Axes>"
      ]
     },
     "metadata": {
      "needs_background": "light"
     },
     "output_type": "display_data"
    }
   ],
   "source": [
    "sns.histplot(data = data, x='arr_delay')"
   ]
  },
  {
   "cell_type": "code",
   "execution_count": 7,
   "metadata": {},
   "outputs": [
    {
     "data": {
      "text/plain": [
       "<AxesSubplot:xlabel='weather_delay', ylabel='Count'>"
      ]
     },
     "execution_count": 7,
     "metadata": {},
     "output_type": "execute_result"
    },
    {
     "data": {
      "image/png": "[encoded data removed]",
      "text/plain": [
       "<Figure size 432x288 with 1 Axes>"
      ]
     },
     "metadata": {
      "needs_background": "light"
     },
     "output_type": "display_data"
    }
   ],
   "source": [
    "sns.histplot(data = data, x='weather_delay')"
   ]
  },
  {
   "cell_type": "markdown",
   "metadata": {},
   "source": [
    "#### **Task 2**: Is average/median monthly delay different during the year? If yes, which are months with the biggest delays and what could be the reason?"
   ]
  },
  {
   "cell_type": "code",
   "execution_count": 8,
   "metadata": {},
   "outputs": [],
   "source": [
    "from datetime import datetime"
   ]
  },
  {
   "cell_type": "code",
   "execution_count": 9,
   "metadata": {},
   "outputs": [],
   "source": [
    "flights_rand = pd.read_csv('flights_rand.csv')\n",
    "flights_rand['fl_date'] = pd.to_datetime(flights_rand['fl_date'], errors='coerce')"
   ]
  },
  {
   "cell_type": "code",
   "execution_count": 10,
   "metadata": {},
   "outputs": [],
   "source": [
    "flights_rand['month'] = flights_rand['fl_date'].dt.month"
   ]
  },
  {
   "cell_type": "code",
   "execution_count": 11,
   "metadata": {},
   "outputs": [],
   "source": [
    "flights_rand['year'] = flights_rand['fl_date'].dt.year"
   ]
  },
  {
   "cell_type": "code",
   "execution_count": 12,
   "metadata": {},
   "outputs": [],
   "source": [
    "yr_mon_dep_delay = flights_rand[['year','month', 'dep_delay']]"
   ]
  },
  {
   "cell_type": "code",
   "execution_count": 262,
   "metadata": {},
   "outputs": [
    {
     "data": {
      "text/html": [
       "<div>\n",
       "<style scoped>\n",
       "    .dataframe tbody tr th:only-of-type {\n",
       "        vertical-align: middle;\n",
       "    }\n",
       "\n",
       "    .dataframe tbody tr th {\n",
       "        vertical-align: top;\n",
       "    }\n",
       "\n",
       "    .dataframe thead th {\n",
       "        text-align: right;\n",
       "    }\n",
       "</style>\n",
       "<table border=\"1\" class=\"dataframe\">\n",
       "  <thead>\n",
       "    <tr style=\"text-align: right;\">\n",
       "      <th></th>\n",
       "      <th>month</th>\n",
       "      <th>dep_delay</th>\n",
       "    </tr>\n",
       "  </thead>\n",
       "  <tbody>\n",
       "    <tr>\n",
       "      <th>0</th>\n",
       "      <td>1</td>\n",
       "      <td>8.208605</td>\n",
       "    </tr>\n",
       "    <tr>\n",
       "      <th>1</th>\n",
       "      <td>2</td>\n",
       "      <td>14.773963</td>\n",
       "    </tr>\n",
       "    <tr>\n",
       "      <th>2</th>\n",
       "      <td>3</td>\n",
       "      <td>13.774275</td>\n",
       "    </tr>\n",
       "    <tr>\n",
       "      <th>3</th>\n",
       "      <td>4</td>\n",
       "      <td>6.770511</td>\n",
       "    </tr>\n",
       "    <tr>\n",
       "      <th>4</th>\n",
       "      <td>5</td>\n",
       "      <td>9.413636</td>\n",
       "    </tr>\n",
       "    <tr>\n",
       "      <th>5</th>\n",
       "      <td>6</td>\n",
       "      <td>12.374702</td>\n",
       "    </tr>\n",
       "    <tr>\n",
       "      <th>6</th>\n",
       "      <td>7</td>\n",
       "      <td>11.014428</td>\n",
       "    </tr>\n",
       "    <tr>\n",
       "      <th>7</th>\n",
       "      <td>8</td>\n",
       "      <td>13.638030</td>\n",
       "    </tr>\n",
       "    <tr>\n",
       "      <th>8</th>\n",
       "      <td>9</td>\n",
       "      <td>3.923773</td>\n",
       "    </tr>\n",
       "    <tr>\n",
       "      <th>9</th>\n",
       "      <td>10</td>\n",
       "      <td>8.522673</td>\n",
       "    </tr>\n",
       "    <tr>\n",
       "      <th>10</th>\n",
       "      <td>11</td>\n",
       "      <td>7.713924</td>\n",
       "    </tr>\n",
       "    <tr>\n",
       "      <th>11</th>\n",
       "      <td>12</td>\n",
       "      <td>11.315166</td>\n",
       "    </tr>\n",
       "  </tbody>\n",
       "</table>\n",
       "</div>"
      ],
      "text/plain": [
       "    month  dep_delay\n",
       "0       1   8.208605\n",
       "1       2  14.773963\n",
       "2       3  13.774275\n",
       "3       4   6.770511\n",
       "4       5   9.413636\n",
       "5       6  12.374702\n",
       "6       7  11.014428\n",
       "7       8  13.638030\n",
       "8       9   3.923773\n",
       "9      10   8.522673\n",
       "10     11   7.713924\n",
       "11     12  11.315166"
      ]
     },
     "execution_count": 262,
     "metadata": {},
     "output_type": "execute_result"
    }
   ],
   "source": [
    "month_dep_delay = yr_mon_dep_delay[['dep_delay', 'month']].groupby('month').mean().reset_index()\n",
    "month_dep_delay"
   ]
  },
  {
   "cell_type": "code",
   "execution_count": 263,
   "metadata": {},
   "outputs": [
    {
     "data": {
      "text/html": [
       "<div>\n",
       "<style scoped>\n",
       "    .dataframe tbody tr th:only-of-type {\n",
       "        vertical-align: middle;\n",
       "    }\n",
       "\n",
       "    .dataframe tbody tr th {\n",
       "        vertical-align: top;\n",
       "    }\n",
       "\n",
       "    .dataframe thead th {\n",
       "        text-align: right;\n",
       "    }\n",
       "</style>\n",
       "<table border=\"1\" class=\"dataframe\">\n",
       "  <thead>\n",
       "    <tr style=\"text-align: right;\">\n",
       "      <th></th>\n",
       "      <th>year</th>\n",
       "      <th>dep_delay</th>\n",
       "    </tr>\n",
       "  </thead>\n",
       "  <tbody>\n",
       "    <tr>\n",
       "      <th>0</th>\n",
       "      <td>2018</td>\n",
       "      <td>9.415122</td>\n",
       "    </tr>\n",
       "    <tr>\n",
       "      <th>1</th>\n",
       "      <td>2019</td>\n",
       "      <td>10.774853</td>\n",
       "    </tr>\n",
       "  </tbody>\n",
       "</table>\n",
       "</div>"
      ],
      "text/plain": [
       "   year  dep_delay\n",
       "0  2018   9.415122\n",
       "1  2019  10.774853"
      ]
     },
     "execution_count": 263,
     "metadata": {},
     "output_type": "execute_result"
    }
   ],
   "source": [
    "yr_dep_delay = yr_mon_dep_delay[['dep_delay', 'year']].groupby('year').mean().reset_index()\n",
    "yr_dep_delay"
   ]
  },
  {
   "cell_type": "markdown",
   "metadata": {},
   "source": [
    "#### **Task 3**: Does the weather affect the delay? \n",
    "Use the API to pull the weather information for flights. There is no need to get weather for ALL flights. We can choose the right representative sample. Let's focus on four weather types:\n",
    "- sunny\n",
    "- cloudy\n",
    "- rainy\n",
    "- snow.\n",
    "Test the hypothesis that these 4 delays are from the same distribution. If they are not, which ones are significantly different?"
   ]
  },
  {
   "cell_type": "code",
   "execution_count": 308,
   "metadata": {},
   "outputs": [],
   "source": [
    "cities = flights_rand[['dest_city_name', 'fl_date']]"
   ]
  },
  {
   "cell_type": "code",
   "execution_count": 309,
   "metadata": {},
   "outputs": [
    {
     "name": "stderr",
     "output_type": "stream",
     "text": [
      "<ipython-input-309-4fa885e34e2b>:1: SettingWithCopyWarning: \n",
      "A value is trying to be set on a copy of a slice from a DataFrame.\n",
      "Try using .loc[row_indexer,col_indexer] = value instead\n",
      "\n",
      "See the caveats in the documentation: https://pandas.pydata.org/pandas-docs/stable/user_guide/indexing.html#returning-a-view-versus-a-copy\n",
      "  cities['country'] = 'US'\n"
     ]
    }
   ],
   "source": [
    "cities['country'] = 'US'"
   ]
  },
  {
   "cell_type": "code",
   "execution_count": 325,
   "metadata": {},
   "outputs": [
    {
     "name": "stderr",
     "output_type": "stream",
     "text": [
      "<ipython-input-325-88b608265d67>:1: SettingWithCopyWarning: \n",
      "A value is trying to be set on a copy of a slice from a DataFrame.\n",
      "Try using .loc[row_indexer,col_indexer] = value instead\n",
      "\n",
      "See the caveats in the documentation: https://pandas.pydata.org/pandas-docs/stable/user_guide/indexing.html#returning-a-view-versus-a-copy\n",
      "  cities['fl_date'] = pd.to_datetime(cities['fl_date'])\n"
     ]
    }
   ],
   "source": [
    "cities['fl_date'] = pd.to_datetime(cities['fl_date'])"
   ]
  },
  {
   "cell_type": "code",
   "execution_count": 334,
   "metadata": {},
   "outputs": [
    {
     "name": "stderr",
     "output_type": "stream",
     "text": [
      "<ipython-input-334-874f612b17bc>:1: SettingWithCopyWarning: \n",
      "A value is trying to be set on a copy of a slice from a DataFrame.\n",
      "Try using .loc[row_indexer,col_indexer] = value instead\n",
      "\n",
      "See the caveats in the documentation: https://pandas.pydata.org/pandas-docs/stable/user_guide/indexing.html#returning-a-view-versus-a-copy\n",
      "  cities['unix_time'] = 'insert'\n"
     ]
    }
   ],
   "source": [
    "cities['unix_time'] = 'insert'"
   ]
  },
  {
   "cell_type": "code",
   "execution_count": 336,
   "metadata": {},
   "outputs": [
    {
     "data": {
      "text/html": [
       "<div>\n",
       "<style scoped>\n",
       "    .dataframe tbody tr th:only-of-type {\n",
       "        vertical-align: middle;\n",
       "    }\n",
       "\n",
       "    .dataframe tbody tr th {\n",
       "        vertical-align: top;\n",
       "    }\n",
       "\n",
       "    .dataframe thead th {\n",
       "        text-align: right;\n",
       "    }\n",
       "</style>\n",
       "<table border=\"1\" class=\"dataframe\">\n",
       "  <thead>\n",
       "    <tr style=\"text-align: right;\">\n",
       "      <th></th>\n",
       "      <th>dest_city_name</th>\n",
       "      <th>fl_date</th>\n",
       "      <th>country</th>\n",
       "      <th>unix_time</th>\n",
       "    </tr>\n",
       "  </thead>\n",
       "  <tbody>\n",
       "    <tr>\n",
       "      <th>0</th>\n",
       "      <td>Idaho Falls, ID</td>\n",
       "      <td>2018-07-27</td>\n",
       "      <td>US</td>\n",
       "      <td>insert</td>\n",
       "    </tr>\n",
       "    <tr>\n",
       "      <th>1</th>\n",
       "      <td>El Paso, TX</td>\n",
       "      <td>2018-10-08</td>\n",
       "      <td>US</td>\n",
       "      <td>insert</td>\n",
       "    </tr>\n",
       "    <tr>\n",
       "      <th>2</th>\n",
       "      <td>Detroit, MI</td>\n",
       "      <td>2018-10-31</td>\n",
       "      <td>US</td>\n",
       "      <td>insert</td>\n",
       "    </tr>\n",
       "    <tr>\n",
       "      <th>3</th>\n",
       "      <td>Charlotte, NC</td>\n",
       "      <td>2019-10-15</td>\n",
       "      <td>US</td>\n",
       "      <td>insert</td>\n",
       "    </tr>\n",
       "    <tr>\n",
       "      <th>4</th>\n",
       "      <td>Austin, TX</td>\n",
       "      <td>2018-06-19</td>\n",
       "      <td>US</td>\n",
       "      <td>insert</td>\n",
       "    </tr>\n",
       "    <tr>\n",
       "      <th>...</th>\n",
       "      <td>...</td>\n",
       "      <td>...</td>\n",
       "      <td>...</td>\n",
       "      <td>...</td>\n",
       "    </tr>\n",
       "    <tr>\n",
       "      <th>9995</th>\n",
       "      <td>Midland/Odessa, TX</td>\n",
       "      <td>2019-01-12</td>\n",
       "      <td>US</td>\n",
       "      <td>insert</td>\n",
       "    </tr>\n",
       "    <tr>\n",
       "      <th>9996</th>\n",
       "      <td>Los Angeles, CA</td>\n",
       "      <td>2018-11-02</td>\n",
       "      <td>US</td>\n",
       "      <td>insert</td>\n",
       "    </tr>\n",
       "    <tr>\n",
       "      <th>9997</th>\n",
       "      <td>Indianapolis, IN</td>\n",
       "      <td>2019-05-20</td>\n",
       "      <td>US</td>\n",
       "      <td>insert</td>\n",
       "    </tr>\n",
       "    <tr>\n",
       "      <th>9998</th>\n",
       "      <td>Nashville, TN</td>\n",
       "      <td>2019-08-04</td>\n",
       "      <td>US</td>\n",
       "      <td>insert</td>\n",
       "    </tr>\n",
       "    <tr>\n",
       "      <th>9999</th>\n",
       "      <td>Chicago, IL</td>\n",
       "      <td>2018-05-27</td>\n",
       "      <td>US</td>\n",
       "      <td>insert</td>\n",
       "    </tr>\n",
       "  </tbody>\n",
       "</table>\n",
       "<p>10000 rows × 4 columns</p>\n",
       "</div>"
      ],
      "text/plain": [
       "          dest_city_name    fl_date country unix_time\n",
       "0        Idaho Falls, ID 2018-07-27      US    insert\n",
       "1            El Paso, TX 2018-10-08      US    insert\n",
       "2            Detroit, MI 2018-10-31      US    insert\n",
       "3          Charlotte, NC 2019-10-15      US    insert\n",
       "4             Austin, TX 2018-06-19      US    insert\n",
       "...                  ...        ...     ...       ...\n",
       "9995  Midland/Odessa, TX 2019-01-12      US    insert\n",
       "9996     Los Angeles, CA 2018-11-02      US    insert\n",
       "9997    Indianapolis, IN 2019-05-20      US    insert\n",
       "9998       Nashville, TN 2019-08-04      US    insert\n",
       "9999         Chicago, IL 2018-05-27      US    insert\n",
       "\n",
       "[10000 rows x 4 columns]"
      ]
     },
     "execution_count": 336,
     "metadata": {},
     "output_type": "execute_result"
    }
   ],
   "source": [
    "cities"
   ]
  },
  {
   "cell_type": "code",
   "execution_count": 361,
   "metadata": {},
   "outputs": [
    {
     "name": "stderr",
     "output_type": "stream",
     "text": [
      "<ipython-input-361-c1dbc247abee>:1: SettingWithCopyWarning: \n",
      "A value is trying to be set on a copy of a slice from a DataFrame.\n",
      "Try using .loc[row_indexer,col_indexer] = value instead\n",
      "\n",
      "See the caveats in the documentation: https://pandas.pydata.org/pandas-docs/stable/user_guide/indexing.html#returning-a-view-versus-a-copy\n",
      "  cities['unix_time'] = cities['fl_date'].astype('string').apply(lambda x: int(time.mktime(dt.datetime.strptime(x, \"%Y-%m-%d\").timetuple())))\n"
     ]
    }
   ],
   "source": [
    "cities['unix_time'] = cities['fl_date'].astype('string').apply(lambda x: int(time.mktime(dt.datetime.strptime(x, \"%Y-%m-%d\").timetuple())))"
   ]
  },
  {
   "cell_type": "code",
   "execution_count": 362,
   "metadata": {},
   "outputs": [
    {
     "data": {
      "text/html": [
       "<div>\n",
       "<style scoped>\n",
       "    .dataframe tbody tr th:only-of-type {\n",
       "        vertical-align: middle;\n",
       "    }\n",
       "\n",
       "    .dataframe tbody tr th {\n",
       "        vertical-align: top;\n",
       "    }\n",
       "\n",
       "    .dataframe thead th {\n",
       "        text-align: right;\n",
       "    }\n",
       "</style>\n",
       "<table border=\"1\" class=\"dataframe\">\n",
       "  <thead>\n",
       "    <tr style=\"text-align: right;\">\n",
       "      <th></th>\n",
       "      <th>dest_city_name</th>\n",
       "      <th>fl_date</th>\n",
       "      <th>country</th>\n",
       "      <th>unix_time</th>\n",
       "    </tr>\n",
       "  </thead>\n",
       "  <tbody>\n",
       "    <tr>\n",
       "      <th>0</th>\n",
       "      <td>Idaho Falls, ID</td>\n",
       "      <td>2018-07-27</td>\n",
       "      <td>US</td>\n",
       "      <td>1532664000</td>\n",
       "    </tr>\n",
       "    <tr>\n",
       "      <th>1</th>\n",
       "      <td>El Paso, TX</td>\n",
       "      <td>2018-10-08</td>\n",
       "      <td>US</td>\n",
       "      <td>1538971200</td>\n",
       "    </tr>\n",
       "    <tr>\n",
       "      <th>2</th>\n",
       "      <td>Detroit, MI</td>\n",
       "      <td>2018-10-31</td>\n",
       "      <td>US</td>\n",
       "      <td>1540958400</td>\n",
       "    </tr>\n",
       "    <tr>\n",
       "      <th>3</th>\n",
       "      <td>Charlotte, NC</td>\n",
       "      <td>2019-10-15</td>\n",
       "      <td>US</td>\n",
       "      <td>1571112000</td>\n",
       "    </tr>\n",
       "    <tr>\n",
       "      <th>4</th>\n",
       "      <td>Austin, TX</td>\n",
       "      <td>2018-06-19</td>\n",
       "      <td>US</td>\n",
       "      <td>1529380800</td>\n",
       "    </tr>\n",
       "    <tr>\n",
       "      <th>...</th>\n",
       "      <td>...</td>\n",
       "      <td>...</td>\n",
       "      <td>...</td>\n",
       "      <td>...</td>\n",
       "    </tr>\n",
       "    <tr>\n",
       "      <th>9995</th>\n",
       "      <td>Midland/Odessa, TX</td>\n",
       "      <td>2019-01-12</td>\n",
       "      <td>US</td>\n",
       "      <td>1547269200</td>\n",
       "    </tr>\n",
       "    <tr>\n",
       "      <th>9996</th>\n",
       "      <td>Los Angeles, CA</td>\n",
       "      <td>2018-11-02</td>\n",
       "      <td>US</td>\n",
       "      <td>1541131200</td>\n",
       "    </tr>\n",
       "    <tr>\n",
       "      <th>9997</th>\n",
       "      <td>Indianapolis, IN</td>\n",
       "      <td>2019-05-20</td>\n",
       "      <td>US</td>\n",
       "      <td>1558324800</td>\n",
       "    </tr>\n",
       "    <tr>\n",
       "      <th>9998</th>\n",
       "      <td>Nashville, TN</td>\n",
       "      <td>2019-08-04</td>\n",
       "      <td>US</td>\n",
       "      <td>1564891200</td>\n",
       "    </tr>\n",
       "    <tr>\n",
       "      <th>9999</th>\n",
       "      <td>Chicago, IL</td>\n",
       "      <td>2018-05-27</td>\n",
       "      <td>US</td>\n",
       "      <td>1527393600</td>\n",
       "    </tr>\n",
       "  </tbody>\n",
       "</table>\n",
       "<p>10000 rows × 4 columns</p>\n",
       "</div>"
      ],
      "text/plain": [
       "          dest_city_name    fl_date country   unix_time\n",
       "0        Idaho Falls, ID 2018-07-27      US  1532664000\n",
       "1            El Paso, TX 2018-10-08      US  1538971200\n",
       "2            Detroit, MI 2018-10-31      US  1540958400\n",
       "3          Charlotte, NC 2019-10-15      US  1571112000\n",
       "4             Austin, TX 2018-06-19      US  1529380800\n",
       "...                  ...        ...     ...         ...\n",
       "9995  Midland/Odessa, TX 2019-01-12      US  1547269200\n",
       "9996     Los Angeles, CA 2018-11-02      US  1541131200\n",
       "9997    Indianapolis, IN 2019-05-20      US  1558324800\n",
       "9998       Nashville, TN 2019-08-04      US  1564891200\n",
       "9999         Chicago, IL 2018-05-27      US  1527393600\n",
       "\n",
       "[10000 rows x 4 columns]"
      ]
     },
     "execution_count": 362,
     "metadata": {},
     "output_type": "execute_result"
    }
   ],
   "source": [
    "cities"
   ]
  },
  {
   "cell_type": "code",
   "execution_count": 330,
   "metadata": {},
   "outputs": [],
   "source": [
    "import os\n",
    "import requests as re\n",
    "import time\n",
    "from datetime import datetime\n",
    "e_k = '2acca6e1382a5713ed85ba759bea2b07'"
   ]
  },
  {
   "cell_type": "code",
   "execution_count": 346,
   "metadata": {},
   "outputs": [],
   "source": [
    "def get_weather(city_name, time):\n",
    "    url = str(\"http://history.openweathermap.org/data/2.5/history/city?q=\"+city_name+\"&type=day&start=\"+str(time)+\"&appid=\" +e_k)\n",
    "    print(url)\n",
    "    res = re.get(url)\n",
    "    return res.json()"
   ]
  },
  {
   "cell_type": "code",
   "execution_count": 365,
   "metadata": {},
   "outputs": [
    {
     "name": "stdout",
     "output_type": "stream",
     "text": [
      "http://history.openweathermap.org/data/2.5/history/city?q=Idaho Falls,US&type=day&start=1532664000&appid=2acca6e1382a5713ed85ba759bea2b07\n"
     ]
    },
    {
     "data": {
      "text/plain": [
       "{'code': 400000, 'message': 'data is available only in the last year'}"
      ]
     },
     "execution_count": 365,
     "metadata": {},
     "output_type": "execute_result"
    }
   ],
   "source": [
    "get_weather(\"Idaho Falls,US\", 1532664000)"
   ]
  },
  {
   "cell_type": "code",
   "execution_count": 360,
   "metadata": {},
   "outputs": [
    {
     "data": {
      "text/plain": [
       "datetime.datetime(2021, 4, 4, 20, 0, 0, 100000)"
      ]
     },
     "execution_count": 360,
     "metadata": {},
     "output_type": "execute_result"
    }
   ],
   "source": [
    "datetime.fromtimestamp(1617580800.1)"
   ]
  },
  {
   "cell_type": "markdown",
   "metadata": {},
   "source": [
    "#### **Task 4**: How taxi times changing during the day? Does higher traffic lead to bigger taxi times?"
   ]
  },
  {
   "cell_type": "code",
   "execution_count": 15,
   "metadata": {},
   "outputs": [],
   "source": [
    "flights_rand['total_taxi'] = flights_rand['taxi_out']+flights_rand['taxi_in']"
   ]
  },
  {
   "cell_type": "code",
   "execution_count": 16,
   "metadata": {},
   "outputs": [
    {
     "data": {
      "text/plain": [
       "<AxesSubplot:xlabel='total_taxi', ylabel='dep_delay'>"
      ]
     },
     "execution_count": 16,
     "metadata": {},
     "output_type": "execute_result"
    },
    {
     "data": {
      "image/png": "[encoded data removed]",
      "text/plain": [
       "<Figure size 432x288 with 1 Axes>"
      ]
     },
     "metadata": {
      "needs_background": "light"
     },
     "output_type": "display_data"
    }
   ],
   "source": [
    "sns.scatterplot(data=flights_rand, x=flights_rand['total_taxi'], y=flights_rand['dep_delay'])"
   ]
  },
  {
   "cell_type": "markdown",
   "metadata": {},
   "source": [
    "#### **Task 5**: What is the average percentage of delays that is already created before departure? (aka are arrival delays caused by departure delays?) Are airlines able to lower the delay during the flights?"
   ]
  },
  {
   "cell_type": "code",
   "execution_count": 17,
   "metadata": {},
   "outputs": [],
   "source": [
    "total_delay = flights_rand['arr_delay'] + flights_rand['dep_delay']"
   ]
  },
  {
   "cell_type": "code",
   "execution_count": 18,
   "metadata": {},
   "outputs": [
    {
     "name": "stdout",
     "output_type": "stream",
     "text": [
      "total delays from arrival delay is: 33.856580555891405%\n"
     ]
    }
   ],
   "source": [
    "print('total delays from arrival delay is: ' + str(flights_rand['arr_delay'].sum()/total_delay.sum() * 100) + '%')"
   ]
  },
  {
   "cell_type": "markdown",
   "metadata": {},
   "source": [
    "#### **Task 6**: How many states cover 50% of US air traffic? "
   ]
  },
  {
   "cell_type": "code",
   "execution_count": 19,
   "metadata": {},
   "outputs": [],
   "source": [
    "destinations = flights_rand['dest_city_name'].str.rsplit(\",\", n=1, expand=True)"
   ]
  },
  {
   "cell_type": "code",
   "execution_count": 20,
   "metadata": {},
   "outputs": [],
   "source": [
    "states = destinations.loc[:,1]"
   ]
  },
  {
   "cell_type": "code",
   "execution_count": 123,
   "metadata": {},
   "outputs": [
    {
     "data": {
      "text/plain": [
       " CA    1118\n",
       " TX     991\n",
       " FL     759\n",
       " IL     600\n",
       " GA     566\n",
       "Name: 1, dtype: int64"
      ]
     },
     "execution_count": 123,
     "metadata": {},
     "output_type": "execute_result"
    }
   ],
   "source": [
    "states.value_counts().head(5)"
   ]
  },
  {
   "cell_type": "markdown",
   "metadata": {},
   "source": [
    "#### **Task 7**: Test the hypothesis whether planes fly faster when there is the departure delay? "
   ]
  },
  {
   "cell_type": "code",
   "execution_count": 22,
   "metadata": {},
   "outputs": [],
   "source": [
    "from scipy import stats"
   ]
  },
  {
   "cell_type": "code",
   "execution_count": 23,
   "metadata": {},
   "outputs": [],
   "source": [
    "air_time = flights_rand['air_time']"
   ]
  },
  {
   "cell_type": "code",
   "execution_count": 24,
   "metadata": {},
   "outputs": [],
   "source": [
    "dep_delay = flights_rand['dep_delay']"
   ]
  },
  {
   "cell_type": "code",
   "execution_count": 25,
   "metadata": {},
   "outputs": [
    {
     "data": {
      "text/plain": [
       "<AxesSubplot:xlabel='dep_delay', ylabel='air_time'>"
      ]
     },
     "execution_count": 25,
     "metadata": {},
     "output_type": "execute_result"
    },
    {
     "data": {
      "image/png": "[encoded data removed]",
      "text/plain": [
       "<Figure size 432x288 with 1 Axes>"
      ]
     },
     "metadata": {
      "needs_background": "light"
     },
     "output_type": "display_data"
    }
   ],
   "source": [
    "sns.scatterplot(data=flights_rand, x=dep_delay, y=air_time)"
   ]
  },
  {
   "cell_type": "markdown",
   "metadata": {},
   "source": [
    "#### **Task 8**: When (which hour) do most 'LONG', 'SHORT', 'MEDIUM' haul flights take off?"
   ]
  },
  {
   "cell_type": "code",
   "execution_count": 70,
   "metadata": {},
   "outputs": [],
   "source": [
    "flights_rand['hour_departure'] = flights_rand['dep_time'].apply(\n",
    "    lambda x: str(x)[:2] if len(str(x)) == 6 else (str(x)[:1]))"
   ]
  },
  {
   "cell_type": "code",
   "execution_count": 72,
   "metadata": {},
   "outputs": [],
   "source": [
    "long = flights_rand[flights_rand['air_time'].between(400, 659)]"
   ]
  },
  {
   "cell_type": "code",
   "execution_count": 73,
   "metadata": {},
   "outputs": [],
   "source": [
    "medium = flights_rand[flights_rand['air_time'].between(200,399)]"
   ]
  },
  {
   "cell_type": "code",
   "execution_count": 74,
   "metadata": {},
   "outputs": [],
   "source": [
    "short = flights_rand[flights_rand['air_time'].between(0,199)]"
   ]
  },
  {
   "cell_type": "code",
   "execution_count": 82,
   "metadata": {},
   "outputs": [
    {
     "data": {
      "text/plain": [
       "hour_departure\n",
       "16    3\n",
       "9     2\n",
       "19    2\n",
       "10    2\n",
       "7     1\n",
       "15    1\n",
       "dtype: int64"
      ]
     },
     "execution_count": 82,
     "metadata": {},
     "output_type": "execute_result"
    }
   ],
   "source": [
    "commonhr_long = long.groupby('hour_departure').size().sort_values(ascending = False)\n",
    "commonhr_long"
   ]
  },
  {
   "cell_type": "code",
   "execution_count": 85,
   "metadata": {},
   "outputs": [
    {
     "data": {
      "text/plain": [
       "hour_departure\n",
       "7     81\n",
       "8     78\n",
       "6     71\n",
       "17    68\n",
       "18    64\n",
       "dtype: int64"
      ]
     },
     "execution_count": 85,
     "metadata": {},
     "output_type": "execute_result"
    }
   ],
   "source": [
    "commonhr_medium = medium.groupby('hour_departure').size().sort_values(ascending = False)\n",
    "commonhr_medium.head()"
   ]
  },
  {
   "cell_type": "code",
   "execution_count": 86,
   "metadata": {},
   "outputs": [
    {
     "data": {
      "text/plain": [
       "hour_departure\n",
       "17    580\n",
       "12    579\n",
       "6     570\n",
       "11    551\n",
       "15    536\n",
       "dtype: int64"
      ]
     },
     "execution_count": 86,
     "metadata": {},
     "output_type": "execute_result"
    }
   ],
   "source": [
    "commonhr_short = short.groupby('hour_departure').size().sort_values(ascending = False)\n",
    "commonhr_short.head()"
   ]
  },
  {
   "cell_type": "markdown",
   "metadata": {},
   "source": [
    "#### **Task 9**: Find the top 10 the bussiest airports. Does the biggest number of flights mean that the biggest number of passengers went through the particular airport? How much traffic do these 10 airports cover?"
   ]
  },
  {
   "cell_type": "code",
   "execution_count": 114,
   "metadata": {},
   "outputs": [
    {
     "data": {
      "text/plain": [
       "dest\n",
       "ATL    529\n",
       "ORD    485\n",
       "DFW    392\n",
       "DEN    340\n",
       "LAX    314\n",
       "      ... \n",
       "BTM      1\n",
       "BRW      1\n",
       "BQK      1\n",
       "BPT      1\n",
       "LBF      1\n",
       "Length: 309, dtype: int64"
      ]
     },
     "execution_count": 114,
     "metadata": {},
     "output_type": "execute_result"
    }
   ],
   "source": [
    "busiest_air = flights_rand.groupby('dest').size().sort_values(ascending = False)\n",
    "busiest_air"
   ]
  },
  {
   "cell_type": "code",
   "execution_count": 107,
   "metadata": {},
   "outputs": [],
   "source": [
    "passenger_rand = pd.read_csv('passenger_rand.csv')"
   ]
  },
  {
   "cell_type": "code",
   "execution_count": 108,
   "metadata": {},
   "outputs": [],
   "source": [
    "pass_numb_dest = passenger_rand[['passengers', 'dest']].groupby('dest').sum().reset_index()"
   ]
  },
  {
   "cell_type": "code",
   "execution_count": 112,
   "metadata": {},
   "outputs": [
    {
     "data": {
      "text/html": [
       "<div>\n",
       "<style scoped>\n",
       "    .dataframe tbody tr th:only-of-type {\n",
       "        vertical-align: middle;\n",
       "    }\n",
       "\n",
       "    .dataframe tbody tr th {\n",
       "        vertical-align: top;\n",
       "    }\n",
       "\n",
       "    .dataframe thead th {\n",
       "        text-align: right;\n",
       "    }\n",
       "</style>\n",
       "<table border=\"1\" class=\"dataframe\">\n",
       "  <thead>\n",
       "    <tr style=\"text-align: right;\">\n",
       "      <th></th>\n",
       "      <th>dest</th>\n",
       "      <th>passengers</th>\n",
       "    </tr>\n",
       "  </thead>\n",
       "  <tbody>\n",
       "    <tr>\n",
       "      <th>46</th>\n",
       "      <td>ATL</td>\n",
       "      <td>1178279.0</td>\n",
       "    </tr>\n",
       "    <tr>\n",
       "      <th>410</th>\n",
       "      <td>LAX</td>\n",
       "      <td>783884.0</td>\n",
       "    </tr>\n",
       "    <tr>\n",
       "      <th>540</th>\n",
       "      <td>ORD</td>\n",
       "      <td>764232.0</td>\n",
       "    </tr>\n",
       "    <tr>\n",
       "      <th>186</th>\n",
       "      <td>DEN</td>\n",
       "      <td>758319.0</td>\n",
       "    </tr>\n",
       "    <tr>\n",
       "      <th>187</th>\n",
       "      <td>DFW</td>\n",
       "      <td>708191.0</td>\n",
       "    </tr>\n",
       "    <tr>\n",
       "      <th>...</th>\n",
       "      <td>...</td>\n",
       "      <td>...</td>\n",
       "    </tr>\n",
       "    <tr>\n",
       "      <th>736</th>\n",
       "      <td>TKE</td>\n",
       "      <td>0.0</td>\n",
       "    </tr>\n",
       "    <tr>\n",
       "      <th>735</th>\n",
       "      <td>TIQ</td>\n",
       "      <td>0.0</td>\n",
       "    </tr>\n",
       "    <tr>\n",
       "      <th>503</th>\n",
       "      <td>MVW</td>\n",
       "      <td>0.0</td>\n",
       "    </tr>\n",
       "    <tr>\n",
       "      <th>733</th>\n",
       "      <td>TEX</td>\n",
       "      <td>0.0</td>\n",
       "    </tr>\n",
       "    <tr>\n",
       "      <th>421</th>\n",
       "      <td>LFT</td>\n",
       "      <td>0.0</td>\n",
       "    </tr>\n",
       "  </tbody>\n",
       "</table>\n",
       "<p>843 rows × 2 columns</p>\n",
       "</div>"
      ],
      "text/plain": [
       "    dest  passengers\n",
       "46   ATL   1178279.0\n",
       "410  LAX    783884.0\n",
       "540  ORD    764232.0\n",
       "186  DEN    758319.0\n",
       "187  DFW    708191.0\n",
       "..   ...         ...\n",
       "736  TKE         0.0\n",
       "735  TIQ         0.0\n",
       "503  MVW         0.0\n",
       "733  TEX         0.0\n",
       "421  LFT         0.0\n",
       "\n",
       "[843 rows x 2 columns]"
      ]
     },
     "execution_count": 112,
     "metadata": {},
     "output_type": "execute_result"
    }
   ],
   "source": [
    "pass_numb_dest.sort_values(by = 'passengers', ascending = False)"
   ]
  },
  {
   "cell_type": "markdown",
   "metadata": {},
   "source": [
    "#### **Task 10**: Do bigger delays lead to bigger fuel comsumption per passenger? \n",
    "We need to do four things to answer this as accurate as possible:\n",
    "- Find out average monthly delay per air carrier (monthly delay is sum of all delays in 1 month)\n",
    "- Find out distance covered monthly by different air carriers\n",
    "- Find out number of passengers that were carried by different air carriers\n",
    "- Find out total fuel comsumption per air carrier.\n",
    "\n",
    "Use this information to get the average fuel comsumption per passenger per km. Is this higher for the airlines with bigger average delays?"
   ]
  },
  {
   "cell_type": "code",
   "execution_count": 115,
   "metadata": {},
   "outputs": [],
   "source": [
    "fuel = pd.read_csv('fuel.csv')"
   ]
  },
  {
   "cell_type": "code",
   "execution_count": 379,
   "metadata": {},
   "outputs": [],
   "source": [
    "monthly_carrier_delay = flights_rand[['mkt_unique_carrier', 'dep_delay', 'month']].groupby(['mkt_unique_carrier', 'month']).agg({'dep_delay': 'mean'})"
   ]
  },
  {
   "cell_type": "code",
   "execution_count": 380,
   "metadata": {},
   "outputs": [],
   "source": [
    "monthly_carrier_dist = flights_rand[['mkt_unique_carrier', 'distance', 'month']].groupby(['mkt_unique_carrier', 'month']).sum()"
   ]
  },
  {
   "cell_type": "code",
   "execution_count": 381,
   "metadata": {},
   "outputs": [],
   "source": [
    "numb_pass_carrier = passenger_rand[['passengers', 'unique_carrier']].groupby('unique_carrier').sum().sort_values(by = 'passengers', ascending = False)"
   ]
  },
  {
   "cell_type": "code",
   "execution_count": 382,
   "metadata": {},
   "outputs": [],
   "source": [
    "fuel_carrier = fuel[['total_cost', 'unique_carrier']].groupby('unique_carrier').sum().sort_values(by = 'total_cost', ascending = False)"
   ]
  },
  {
   "cell_type": "code",
   "execution_count": 375,
   "metadata": {},
   "outputs": [],
   "source": [
    "merged_delay = pd.merge(monthly_carrier_delay, monthly_carrier_dist, how = 'left', on = ['mkt_unique_carrier', 'month']).reset_index()"
   ]
  },
  {
   "cell_type": "code",
   "execution_count": 205,
   "metadata": {},
   "outputs": [],
   "source": [
    "merged_delay_renamed = merged_delay.rename(columns={\"mkt_unique_carrier\": \"unique_carrier\"})"
   ]
  },
  {
   "cell_type": "code",
   "execution_count": 376,
   "metadata": {},
   "outputs": [],
   "source": [
    "carrier_merged = pd.merge(numb_pass_carrier, fuel_carrier, how = 'left', on = 'unique_carrier').reset_index()"
   ]
  },
  {
   "cell_type": "code",
   "execution_count": 377,
   "metadata": {},
   "outputs": [],
   "source": [
    "fuel_pass = pd.merge(merged_delay_renamed, carrier_merged, how = 'right', on = 'unique_carrier')"
   ]
  },
  {
   "cell_type": "code",
   "execution_count": 378,
   "metadata": {},
   "outputs": [
    {
     "data": {
      "text/html": [
       "<div>\n",
       "<style scoped>\n",
       "    .dataframe tbody tr th:only-of-type {\n",
       "        vertical-align: middle;\n",
       "    }\n",
       "\n",
       "    .dataframe tbody tr th {\n",
       "        vertical-align: top;\n",
       "    }\n",
       "\n",
       "    .dataframe thead th {\n",
       "        text-align: right;\n",
       "    }\n",
       "</style>\n",
       "<table border=\"1\" class=\"dataframe\">\n",
       "  <thead>\n",
       "    <tr style=\"text-align: right;\">\n",
       "      <th></th>\n",
       "      <th>unique_carrier</th>\n",
       "      <th>month</th>\n",
       "      <th>dep_delay</th>\n",
       "      <th>distance</th>\n",
       "      <th>passengers</th>\n",
       "      <th>total_cost</th>\n",
       "    </tr>\n",
       "  </thead>\n",
       "  <tbody>\n",
       "    <tr>\n",
       "      <th>42</th>\n",
       "      <td>DL</td>\n",
       "      <td>7.0</td>\n",
       "      <td>11.091324</td>\n",
       "      <td>164205.0</td>\n",
       "      <td>3102969.0</td>\n",
       "      <td>3.286616e+10</td>\n",
       "    </tr>\n",
       "    <tr>\n",
       "      <th>36</th>\n",
       "      <td>DL</td>\n",
       "      <td>1.0</td>\n",
       "      <td>10.620915</td>\n",
       "      <td>106087.0</td>\n",
       "      <td>3102969.0</td>\n",
       "      <td>3.286616e+10</td>\n",
       "    </tr>\n",
       "    <tr>\n",
       "      <th>47</th>\n",
       "      <td>DL</td>\n",
       "      <td>12.0</td>\n",
       "      <td>8.201005</td>\n",
       "      <td>145169.0</td>\n",
       "      <td>3102969.0</td>\n",
       "      <td>3.286616e+10</td>\n",
       "    </tr>\n",
       "    <tr>\n",
       "      <th>46</th>\n",
       "      <td>DL</td>\n",
       "      <td>11.0</td>\n",
       "      <td>11.502959</td>\n",
       "      <td>114207.0</td>\n",
       "      <td>3102969.0</td>\n",
       "      <td>3.286616e+10</td>\n",
       "    </tr>\n",
       "    <tr>\n",
       "      <th>45</th>\n",
       "      <td>DL</td>\n",
       "      <td>10.0</td>\n",
       "      <td>4.603896</td>\n",
       "      <td>107554.0</td>\n",
       "      <td>3102969.0</td>\n",
       "      <td>3.286616e+10</td>\n",
       "    </tr>\n",
       "    <tr>\n",
       "      <th>...</th>\n",
       "      <td>...</td>\n",
       "      <td>...</td>\n",
       "      <td>...</td>\n",
       "      <td>...</td>\n",
       "      <td>...</td>\n",
       "      <td>...</td>\n",
       "    </tr>\n",
       "    <tr>\n",
       "      <th>379</th>\n",
       "      <td>O6</td>\n",
       "      <td>NaN</td>\n",
       "      <td>NaN</td>\n",
       "      <td>NaN</td>\n",
       "      <td>0.0</td>\n",
       "      <td>NaN</td>\n",
       "    </tr>\n",
       "    <tr>\n",
       "      <th>380</th>\n",
       "      <td>6R</td>\n",
       "      <td>NaN</td>\n",
       "      <td>NaN</td>\n",
       "      <td>NaN</td>\n",
       "      <td>0.0</td>\n",
       "      <td>NaN</td>\n",
       "    </tr>\n",
       "    <tr>\n",
       "      <th>381</th>\n",
       "      <td>1TQ</td>\n",
       "      <td>NaN</td>\n",
       "      <td>NaN</td>\n",
       "      <td>NaN</td>\n",
       "      <td>0.0</td>\n",
       "      <td>NaN</td>\n",
       "    </tr>\n",
       "    <tr>\n",
       "      <th>384</th>\n",
       "      <td>VIQ</td>\n",
       "      <td>NaN</td>\n",
       "      <td>NaN</td>\n",
       "      <td>NaN</td>\n",
       "      <td>0.0</td>\n",
       "      <td>NaN</td>\n",
       "    </tr>\n",
       "    <tr>\n",
       "      <th>386</th>\n",
       "      <td>5C</td>\n",
       "      <td>NaN</td>\n",
       "      <td>NaN</td>\n",
       "      <td>NaN</td>\n",
       "      <td>0.0</td>\n",
       "      <td>NaN</td>\n",
       "    </tr>\n",
       "  </tbody>\n",
       "</table>\n",
       "<p>387 rows × 6 columns</p>\n",
       "</div>"
      ],
      "text/plain": [
       "    unique_carrier  month  dep_delay  distance  passengers    total_cost\n",
       "42              DL    7.0  11.091324  164205.0   3102969.0  3.286616e+10\n",
       "36              DL    1.0  10.620915  106087.0   3102969.0  3.286616e+10\n",
       "47              DL   12.0   8.201005  145169.0   3102969.0  3.286616e+10\n",
       "46              DL   11.0  11.502959  114207.0   3102969.0  3.286616e+10\n",
       "45              DL   10.0   4.603896  107554.0   3102969.0  3.286616e+10\n",
       "..             ...    ...        ...       ...         ...           ...\n",
       "379             O6    NaN        NaN       NaN         0.0           NaN\n",
       "380             6R    NaN        NaN       NaN         0.0           NaN\n",
       "381            1TQ    NaN        NaN       NaN         0.0           NaN\n",
       "384            VIQ    NaN        NaN       NaN         0.0           NaN\n",
       "386             5C    NaN        NaN       NaN         0.0           NaN\n",
       "\n",
       "[387 rows x 6 columns]"
      ]
     },
     "execution_count": 378,
     "metadata": {},
     "output_type": "execute_result"
    }
   ],
   "source": [
    "fuel_pass.sort_values(by = 'total_cost', ascending = False)"
   ]
  },
  {
   "cell_type": "markdown",
   "metadata": {},
   "source": [
    "Use this information to get the average fuel comsumption per passenger per km. Is this higher for the airlines with bigger average delays?"
   ]
  },
  {
   "cell_type": "code",
   "execution_count": 373,
   "metadata": {},
   "outputs": [
    {
     "data": {
      "text/html": [
       "<div>\n",
       "<style scoped>\n",
       "    .dataframe tbody tr th:only-of-type {\n",
       "        vertical-align: middle;\n",
       "    }\n",
       "\n",
       "    .dataframe tbody tr th {\n",
       "        vertical-align: top;\n",
       "    }\n",
       "\n",
       "    .dataframe thead th {\n",
       "        text-align: right;\n",
       "    }\n",
       "</style>\n",
       "<table border=\"1\" class=\"dataframe\">\n",
       "  <thead>\n",
       "    <tr style=\"text-align: right;\">\n",
       "      <th></th>\n",
       "      <th>unique_carrier</th>\n",
       "      <th>month</th>\n",
       "      <th>dep_delay</th>\n",
       "      <th>distance</th>\n",
       "      <th>passengers</th>\n",
       "      <th>total_cost</th>\n",
       "      <th>cost_per_km</th>\n",
       "      <th>cost_per_passenger</th>\n",
       "    </tr>\n",
       "  </thead>\n",
       "  <tbody>\n",
       "    <tr>\n",
       "      <th>0</th>\n",
       "      <td>AA</td>\n",
       "      <td>1.0</td>\n",
       "      <td>13.058537</td>\n",
       "      <td>155274.0</td>\n",
       "      <td>2950254.0</td>\n",
       "      <td>2.853022e+10</td>\n",
       "      <td>183741.104860</td>\n",
       "      <td>9670.427128</td>\n",
       "    </tr>\n",
       "    <tr>\n",
       "      <th>1</th>\n",
       "      <td>AA</td>\n",
       "      <td>2.0</td>\n",
       "      <td>10.502959</td>\n",
       "      <td>118701.0</td>\n",
       "      <td>2950254.0</td>\n",
       "      <td>2.853022e+10</td>\n",
       "      <td>240353.630686</td>\n",
       "      <td>9670.427128</td>\n",
       "    </tr>\n",
       "    <tr>\n",
       "      <th>2</th>\n",
       "      <td>AA</td>\n",
       "      <td>3.0</td>\n",
       "      <td>8.406780</td>\n",
       "      <td>126485.0</td>\n",
       "      <td>2950254.0</td>\n",
       "      <td>2.853022e+10</td>\n",
       "      <td>225562.053334</td>\n",
       "      <td>9670.427128</td>\n",
       "    </tr>\n",
       "    <tr>\n",
       "      <th>3</th>\n",
       "      <td>AA</td>\n",
       "      <td>4.0</td>\n",
       "      <td>7.514851</td>\n",
       "      <td>141122.0</td>\n",
       "      <td>2950254.0</td>\n",
       "      <td>2.853022e+10</td>\n",
       "      <td>202167.035019</td>\n",
       "      <td>9670.427128</td>\n",
       "    </tr>\n",
       "    <tr>\n",
       "      <th>4</th>\n",
       "      <td>AA</td>\n",
       "      <td>5.0</td>\n",
       "      <td>10.160643</td>\n",
       "      <td>161679.0</td>\n",
       "      <td>2950254.0</td>\n",
       "      <td>2.853022e+10</td>\n",
       "      <td>176462.102784</td>\n",
       "      <td>9670.427128</td>\n",
       "    </tr>\n",
       "    <tr>\n",
       "      <th>...</th>\n",
       "      <td>...</td>\n",
       "      <td>...</td>\n",
       "      <td>...</td>\n",
       "      <td>...</td>\n",
       "      <td>...</td>\n",
       "      <td>...</td>\n",
       "      <td>...</td>\n",
       "      <td>...</td>\n",
       "    </tr>\n",
       "    <tr>\n",
       "      <th>118</th>\n",
       "      <td>WN</td>\n",
       "      <td>8.0</td>\n",
       "      <td>10.738255</td>\n",
       "      <td>118317.0</td>\n",
       "      <td>3794549.0</td>\n",
       "      <td>1.816020e+10</td>\n",
       "      <td>153487.644506</td>\n",
       "      <td>4785.864574</td>\n",
       "    </tr>\n",
       "    <tr>\n",
       "      <th>119</th>\n",
       "      <td>WN</td>\n",
       "      <td>9.0</td>\n",
       "      <td>2.403361</td>\n",
       "      <td>83061.0</td>\n",
       "      <td>3794549.0</td>\n",
       "      <td>1.816020e+10</td>\n",
       "      <td>218636.876934</td>\n",
       "      <td>4785.864574</td>\n",
       "    </tr>\n",
       "    <tr>\n",
       "      <th>120</th>\n",
       "      <td>WN</td>\n",
       "      <td>10.0</td>\n",
       "      <td>10.167785</td>\n",
       "      <td>108434.0</td>\n",
       "      <td>3794549.0</td>\n",
       "      <td>1.816020e+10</td>\n",
       "      <td>167476.968801</td>\n",
       "      <td>4785.864574</td>\n",
       "    </tr>\n",
       "    <tr>\n",
       "      <th>121</th>\n",
       "      <td>WN</td>\n",
       "      <td>11.0</td>\n",
       "      <td>10.007812</td>\n",
       "      <td>94190.0</td>\n",
       "      <td>3794549.0</td>\n",
       "      <td>1.816020e+10</td>\n",
       "      <td>192803.881888</td>\n",
       "      <td>4785.864574</td>\n",
       "    </tr>\n",
       "    <tr>\n",
       "      <th>122</th>\n",
       "      <td>WN</td>\n",
       "      <td>12.0</td>\n",
       "      <td>12.229008</td>\n",
       "      <td>101849.0</td>\n",
       "      <td>3794549.0</td>\n",
       "      <td>1.816020e+10</td>\n",
       "      <td>178305.114778</td>\n",
       "      <td>4785.864574</td>\n",
       "    </tr>\n",
       "  </tbody>\n",
       "</table>\n",
       "<p>123 rows × 8 columns</p>\n",
       "</div>"
      ],
      "text/plain": [
       "    unique_carrier  month  dep_delay  distance  passengers    total_cost  \\\n",
       "0               AA    1.0  13.058537  155274.0   2950254.0  2.853022e+10   \n",
       "1               AA    2.0  10.502959  118701.0   2950254.0  2.853022e+10   \n",
       "2               AA    3.0   8.406780  126485.0   2950254.0  2.853022e+10   \n",
       "3               AA    4.0   7.514851  141122.0   2950254.0  2.853022e+10   \n",
       "4               AA    5.0  10.160643  161679.0   2950254.0  2.853022e+10   \n",
       "..             ...    ...        ...       ...         ...           ...   \n",
       "118             WN    8.0  10.738255  118317.0   3794549.0  1.816020e+10   \n",
       "119             WN    9.0   2.403361   83061.0   3794549.0  1.816020e+10   \n",
       "120             WN   10.0  10.167785  108434.0   3794549.0  1.816020e+10   \n",
       "121             WN   11.0  10.007812   94190.0   3794549.0  1.816020e+10   \n",
       "122             WN   12.0  12.229008  101849.0   3794549.0  1.816020e+10   \n",
       "\n",
       "       cost_per_km  cost_per_passenger  \n",
       "0    183741.104860         9670.427128  \n",
       "1    240353.630686         9670.427128  \n",
       "2    225562.053334         9670.427128  \n",
       "3    202167.035019         9670.427128  \n",
       "4    176462.102784         9670.427128  \n",
       "..             ...                 ...  \n",
       "118  153487.644506         4785.864574  \n",
       "119  218636.876934         4785.864574  \n",
       "120  167476.968801         4785.864574  \n",
       "121  192803.881888         4785.864574  \n",
       "122  178305.114778         4785.864574  \n",
       "\n",
       "[123 rows x 8 columns]"
      ]
     },
     "execution_count": 373,
     "metadata": {},
     "output_type": "execute_result"
    }
   ],
   "source": [
    "avg_fuel = (fuel_pass.groupby(['unique_carrier', 'month']).agg(np.mean).reset_index().fillna(0).assign(\n",
    "    \n",
    "    cost_per_km = lambda x: x['total_cost'] / x['distance']\n",
    "    ).assign(\n",
    "    \n",
    "    cost_per_passenger = lambda x: x[('total_cost')] / x['passengers']\n",
    "    )\n",
    ").fillna(0)\n",
    "#.sort_values(by = 'cost_per_passenger', ascending = False)\n",
    "avg_fuel"
   ]
  },
  {
   "cell_type": "code",
   "execution_count": 260,
   "metadata": {},
   "outputs": [
    {
     "data": {
      "text/plain": [
       "<AxesSubplot:xlabel='dep_delay', ylabel='cost_per_passenger'>"
      ]
     },
     "execution_count": 260,
     "metadata": {},
     "output_type": "execute_result"
    },
    {
     "data": {
      "image/png": "[encoded data removed]",
      "text/plain": [
       "<Figure size 432x288 with 1 Axes>"
      ]
     },
     "metadata": {
      "needs_background": "light"
     },
     "output_type": "display_data"
    }
   ],
   "source": [
    "sns.scatterplot(data = avg_fuel, x = 'dep_delay', y = 'cost_per_passenger')"
   ]
  },
  {
   "cell_type": "code",
   "execution_count": 261,
   "metadata": {},
   "outputs": [
    {
     "data": {
      "text/plain": [
       "<AxesSubplot:xlabel='dep_delay', ylabel='cost_per_km'>"
      ]
     },
     "execution_count": 261,
     "metadata": {},
     "output_type": "execute_result"
    },
    {
     "data": {
      "image/png": "[encoded data removed]",
      "text/plain": [
       "<Figure size 432x288 with 1 Axes>"
      ]
     },
     "metadata": {
      "needs_background": "light"
     },
     "output_type": "display_data"
    }
   ],
   "source": [
    "sns.scatterplot(data = avg_fuel, x = 'dep_delay', y = 'cost_per_km')"
   ]
  },
  {
   "cell_type": "code",
   "execution_count": 245,
   "metadata": {},
   "outputs": [],
   "source": [
    "import seaborn as sns"
   ]
  },
  {
   "cell_type": "code",
   "execution_count": 255,
   "metadata": {},
   "outputs": [
    {
     "data": {
      "text/plain": [
       "<AxesSubplot:ylabel='Density'>"
      ]
     },
     "execution_count": 255,
     "metadata": {},
     "output_type": "execute_result"
    },
    {
     "data": {
      "image/png": "[encoded data removed]",
      "text/plain": [
       "<Figure size 432x288 with 1 Axes>"
      ]
     },
     "metadata": {
      "needs_background": "light"
     },
     "output_type": "display_data"
    }
   ],
   "source": [
    "avg_fuel_cost = np.log1p(avg_fuel[['cost_per_km', 'cost_per_passenger']])\n",
    "avg_fuel_cost.plot.kde()"
   ]
  },
  {
   "cell_type": "markdown",
   "metadata": {},
   "source": [
    "## avg delay per airport"
   ]
  },
  {
   "cell_type": "code",
   "execution_count": null,
   "metadata": {},
   "outputs": [],
   "source": []
  },
  {
   "cell_type": "code",
   "execution_count": null,
   "metadata": {},
   "outputs": [],
   "source": []
  },
  {
   "cell_type": "code",
   "execution_count": null,
   "metadata": {},
   "outputs": [],
   "source": []
  },
  {
   "cell_type": "markdown",
   "metadata": {},
   "source": [
    "### arr_delay and taxi out/in correlation"
   ]
  },
  {
   "cell_type": "code",
   "execution_count": 4,
   "metadata": {},
   "outputs": [],
   "source": [
    "flights = pd.read_csv('flights_big.csv')"
   ]
  },
  {
   "cell_type": "code",
   "execution_count": 5,
   "metadata": {},
   "outputs": [
    {
     "data": {
      "text/plain": [
       "<AxesSubplot:xlabel='arr_delay', ylabel='taxi_out'>"
      ]
     },
     "execution_count": 5,
     "metadata": {},
     "output_type": "execute_result"
    },
    {
     "data": {
      "image/png": "[encoded data removed]",
      "text/plain": [
       "<Figure size 432x288 with 1 Axes>"
      ]
     },
     "metadata": {
      "needs_background": "light"
     },
     "output_type": "display_data"
    }
   ],
   "source": [
    "sns.scatterplot(data = flights, x = 'arr_delay', y = 'taxi_out')"
   ]
  },
  {
   "cell_type": "code",
   "execution_count": 6,
   "metadata": {},
   "outputs": [
    {
     "data": {
      "text/plain": [
       "<AxesSubplot:xlabel='taxi_in', ylabel='arr_delay'>"
      ]
     },
     "execution_count": 6,
     "metadata": {},
     "output_type": "execute_result"
    },
    {
     "data": {
      "image/png": "[encoded data removed]",
      "text/plain": [
       "<Figure size 432x288 with 1 Axes>"
      ]
     },
     "metadata": {
      "needs_background": "light"
     },
     "output_type": "display_data"
    }
   ],
   "source": [
    "sns.scatterplot(data = flights, x = 'taxi_in', y = 'arr_delay')"
   ]
  },
  {
   "cell_type": "code",
   "execution_count": 7,
   "metadata": {},
   "outputs": [
    {
     "data": {
      "text/plain": [
       "<AxesSubplot:xlabel='cancelled', ylabel='arr_delay'>"
      ]
     },
     "execution_count": 7,
     "metadata": {},
     "output_type": "execute_result"
    },
    {
     "data": {
      "image/png": "[encoded data removed]",
      "text/plain": [
       "<Figure size 432x288 with 1 Axes>"
      ]
     },
     "metadata": {
      "needs_background": "light"
     },
     "output_type": "display_data"
    }
   ],
   "source": [
    "sns.scatterplot(data = flights, x = 'cancelled', y = 'arr_delay')"
   ]
  },
  {
   "cell_type": "code",
   "execution_count": 7,
   "metadata": {},
   "outputs": [
    {
     "data": {
      "text/plain": [
       "<AxesSubplot:xlabel='diverted', ylabel='arr_delay'>"
      ]
     },
     "execution_count": 7,
     "metadata": {},
     "output_type": "execute_result"
    },
    {
     "data": {
      "image/png": "[encoded data removed]",
      "text/plain": [
       "<Figure size 432x288 with 1 Axes>"
      ]
     },
     "metadata": {
      "needs_background": "light"
     },
     "output_type": "display_data"
    }
   ],
   "source": [
    "sns.scatterplot(data = flights, x = 'diverted', y = 'arr_delay')"
   ]
  },
  {
   "cell_type": "markdown",
   "metadata": {},
   "source": [
    "### wheels off and on"
   ]
  },
  {
   "cell_type": "code",
   "execution_count": 8,
   "metadata": {},
   "outputs": [],
   "source": [
    "flights['hour_wheels_on'] = flights['wheels_on'].apply(\n",
    "    lambda x: str(x)[:2] if len(str(x)) == 6 else (str(x)[:1]))"
   ]
  },
  {
   "cell_type": "code",
   "execution_count": 9,
   "metadata": {},
   "outputs": [],
   "source": [
    "flights['hour_wheels_off'] = flights['wheels_off'].apply(\n",
    "    lambda x: str(x)[:2] if len(str(x)) == 6 else (str(x)[:1]))"
   ]
  },
  {
   "cell_type": "code",
   "execution_count": 10,
   "metadata": {},
   "outputs": [
    {
     "data": {
      "text/plain": [
       "0         16\n",
       "1         19\n",
       "2         12\n",
       "3         21\n",
       "4         20\n",
       "          ..\n",
       "499995    20\n",
       "499996    21\n",
       "499997    19\n",
       "499998    10\n",
       "499999    15\n",
       "Name: hour_wheels_off, Length: 500000, dtype: object"
      ]
     },
     "execution_count": 10,
     "metadata": {},
     "output_type": "execute_result"
    }
   ],
   "source": [
    "flights['hour_wheels_off']"
   ]
  },
  {
   "cell_type": "code",
   "execution_count": 10,
   "metadata": {},
   "outputs": [
    {
     "data": {
      "text/plain": [
       "<AxesSubplot:xlabel='hour_wheels_on', ylabel='arr_delay'>"
      ]
     },
     "execution_count": 10,
     "metadata": {},
     "output_type": "execute_result"
    },
    {
     "data": {
      "image/png": "[encoded data removed]",
      "text/plain": [
       "<Figure size 432x288 with 1 Axes>"
      ]
     },
     "metadata": {
      "needs_background": "light"
     },
     "output_type": "display_data"
    }
   ],
   "source": [
    "sns.scatterplot(data = flights, x = 'hour_wheels_on', y = 'arr_delay')"
   ]
  },
  {
   "cell_type": "code",
   "execution_count": 11,
   "metadata": {},
   "outputs": [
    {
     "data": {
      "text/plain": [
       "<AxesSubplot:xlabel='hour_wheels_off', ylabel='arr_delay'>"
      ]
     },
     "execution_count": 11,
     "metadata": {},
     "output_type": "execute_result"
    },
    {
     "data": {
      "image/png": "[encoded data removed]",
      "text/plain": [
       "<Figure size 432x288 with 1 Axes>"
      ]
     },
     "metadata": {
      "needs_background": "light"
     },
     "output_type": "display_data"
    }
   ],
   "source": [
    "sns.scatterplot(data = flights, x = 'hour_wheels_off', y = 'arr_delay')"
   ]
  }
 ],
 "metadata": {
  "kernelspec": {
   "display_name": "Python 3",
   "language": "python",
   "name": "python3"
  },
  "language_info": {
   "codemirror_mode": {
    "name": "ipython",
    "version": 3
   },
   "file_extension": ".py",
   "mimetype": "text/x-python",
   "name": "python",
   "nbconvert_exporter": "python",
   "pygments_lexer": "ipython3",
   "version": "3.8.5"
  },
  "toc": {
   "base_numbering": 1,
   "nav_menu": {},
   "number_sections": true,
   "sideBar": true,
   "skip_h1_title": false,
   "title_cell": "Table of Contents",
   "title_sidebar": "Contents",
   "toc_cell": false,
   "toc_position": {},
   "toc_section_display": true,
   "toc_window_display": false
  },
  "varInspector": {
   "cols": {
    "lenName": 16,
    "lenType": 16,
    "lenVar": 40
   },
   "kernels_config": {
    "python": {
     "delete_cmd_postfix": "",
     "delete_cmd_prefix": "del ",
     "library": "var_list.py",
     "varRefreshCmd": "print(var_dic_list())"
    },
    "r": {
     "delete_cmd_postfix": ") ",
     "delete_cmd_prefix": "rm(",
     "library": "var_list.r",
     "varRefreshCmd": "cat(var_dic_list()) "
    }
   },
   "types_to_exclude": [
    "module",
    "function",
    "builtin_function_or_method",
    "instance",
    "_Feature"
   ],
   "window_display": false
  }
 },
 "nbformat": 4,
 "nbformat_minor": 4
}
