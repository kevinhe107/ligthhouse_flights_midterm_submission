{
 "cells": [
  {
   "cell_type": "code",
   "execution_count": 10,
   "metadata": {},
   "outputs": [],
   "source": [
    "import pandas as pd\n",
    "from sqlalchemy import create_engine"
   ]
  },
  {
   "cell_type": "code",
   "execution_count": 9,
   "metadata": {},
   "outputs": [],
   "source": [
    "POSTGRES_ADDRESS = 'mid-term-project.ca2jkepgjpne.us-east-2.rds.amazonaws.com'\n",
    "POSTGRES_PORT = '5432'\n",
    "POSTGRES_USERNAME = 'lhl_student' \n",
    "POSTGRES_PASSWORD = 'lhl_student'\n",
    "POSTGRES_DBNAME = 'mid_term_project'"
   ]
  },
  {
   "cell_type": "code",
   "execution_count": 11,
   "metadata": {},
   "outputs": [],
   "source": [
    "postgres_str = ('postgresql://{username}:{password}@{ipaddress}:{port}/{dbname}'\n",
    "      .format(username=POSTGRES_USERNAME,\n",
    "       password=POSTGRES_PASSWORD,\n",
    "       ipaddress=POSTGRES_ADDRESS,\n",
    "       port=POSTGRES_PORT,\n",
    "       dbname=POSTGRES_DBNAME))\n",
    "# Create the connection\n",
    "database = create_engine(postgres_str)"
   ]
  },
  {
   "cell_type": "markdown",
   "metadata": {},
   "source": [
    "### flights at random"
   ]
  },
  {
   "cell_type": "code",
   "execution_count": 7,
   "metadata": {},
   "outputs": [],
   "source": [
    "flights = pd.read_sql_query('''SELECT * FROM flights ORDER BY RANDOM() LIMIT 10000;''', database)"
   ]
  },
  {
   "cell_type": "code",
   "execution_count": null,
   "metadata": {},
   "outputs": [],
   "source": [
    "flights_big = pd.read_sql_query('''SELECT * FROM flights ORDER BY RANDOM() LIMIT 500000;''', database)"
   ]
  },
  {
   "cell_type": "code",
   "execution_count": 6,
   "metadata": {},
   "outputs": [],
   "source": [
    "flights_big.to_csv(r'C:\\Users\\kevin\\data_bootcamp\\w5\\d5\\mid-term-project-I-master/flights_big.csv', index=False, header=True)"
   ]
  },
  {
   "cell_type": "code",
   "execution_count": 9,
   "metadata": {},
   "outputs": [],
   "source": [
    "#flights.to_csv(r'C:\\Users\\kevin\\data_bootcamp\\w5\\d5\\mid-term-project-I-master/flights_rand.csv', index=False, header=True)"
   ]
  },
  {
   "cell_type": "markdown",
   "metadata": {},
   "source": [
    "### flights and passenders tables together"
   ]
  },
  {
   "cell_type": "code",
   "execution_count": 41,
   "metadata": {},
   "outputs": [],
   "source": [
    "#flights_pass = pd.read_sql_query('''SELECT f.*, p.* FROM flights AS f JOIN passengers AS p ON f.origin_airport_id = p.origin_airport_id LIMIT 20000;''', database)"
   ]
  },
  {
   "cell_type": "markdown",
   "metadata": {},
   "source": [
    "### fuel at random"
   ]
  },
  {
   "cell_type": "code",
   "execution_count": 10,
   "metadata": {},
   "outputs": [],
   "source": [
    "fuel = pd.read_sql_query('''SELECT * FROM fuel_comsumption ORDER BY RANDOM() LIMIT 10000;''', database)"
   ]
  },
  {
   "cell_type": "code",
   "execution_count": 12,
   "metadata": {},
   "outputs": [],
   "source": [
    "#fuel.to_csv(r'C:\\Users\\kevin\\data_bootcamp\\w5\\d5\\mid-term-project-I-master/fuel.csv', index=False, header=True)"
   ]
  },
  {
   "cell_type": "markdown",
   "metadata": {},
   "source": [
    "### passengers at random"
   ]
  },
  {
   "cell_type": "code",
   "execution_count": 6,
   "metadata": {},
   "outputs": [],
   "source": [
    "passenger_rand = pd.read_sql_query('''SELECT * FROM passengers ORDER BY RANDOM() LIMIT 10000;''', database)"
   ]
  },
  {
   "cell_type": "code",
   "execution_count": 7,
   "metadata": {},
   "outputs": [],
   "source": [
    "passenger_rand.to_csv(r'C:\\Users\\kevin\\data_bootcamp\\w5\\d5\\mid-term-project-I-master/passenger_rand.csv', index=False, header=True)"
   ]
  },
  {
   "cell_type": "markdown",
   "metadata": {},
   "source": [
    "### all tables"
   ]
  },
  {
   "cell_type": "code",
   "execution_count": 25,
   "metadata": {},
   "outputs": [],
   "source": [
    "#data = pd.read_sql_query('''SELECT f.*, p.*, fuel.* FROM flights AS f JOIN passengers AS p ON f.origin_airport_id = p.origin_airport_id JOIN fuel_comsumption AS fuel ON p.airline_id = fuel.airline_id LIMIT 20000;''', database)"
   ]
  },
  {
   "cell_type": "code",
   "execution_count": 27,
   "metadata": {},
   "outputs": [],
   "source": [
    "#data.to_csv(r'C:\\Users\\kevin\\data_bootcamp\\w5\\d5\\mid-term-project-I-master/all_data.csv', index=False, header=True)"
   ]
  },
  {
   "cell_type": "markdown",
   "metadata": {},
   "source": [
    "## weather"
   ]
  },
  {
   "cell_type": "code",
   "execution_count": 5,
   "metadata": {},
   "outputs": [],
   "source": [
    "weather = pd.read_csv('WeatherEvents_Jan2016-Dec2020.csv')"
   ]
  },
  {
   "cell_type": "code",
   "execution_count": 6,
   "metadata": {},
   "outputs": [],
   "source": [
    "weather['StartTime(UTC)'] = pd.to_datetime(weather['StartTime(UTC)'], errors='coerce')"
   ]
  },
  {
   "cell_type": "code",
   "execution_count": 7,
   "metadata": {},
   "outputs": [],
   "source": [
    "weather['EndTime(UTC)'] = pd.to_datetime(weather['EndTime(UTC)'], errors='coerce')"
   ]
  },
  {
   "cell_type": "code",
   "execution_count": 8,
   "metadata": {},
   "outputs": [],
   "source": [
    "start_date = \"2018-1-1\"\n",
    "end_date = \"2019-1-31\"\n",
    "after_start_date = weather[\"StartTime(UTC)\"] >= start_date\n",
    "before_end_date = weather[\"EndTime(UTC)\"] <= end_date\n",
    "between_two_dates = after_start_date & before_end_date"
   ]
  },
  {
   "cell_type": "code",
   "execution_count": 9,
   "metadata": {},
   "outputs": [],
   "source": [
    "weather1 = weather.loc[between_two_dates]"
   ]
  },
  {
   "cell_type": "code",
   "execution_count": 14,
   "metadata": {},
   "outputs": [],
   "source": [
    "weather12 = weather1[['Type', 'Severity', 'StartTime(UTC)', 'EndTime(UTC)', 'City']]"
   ]
  },
  {
   "cell_type": "code",
   "execution_count": 18,
   "metadata": {},
   "outputs": [
    {
     "data": {
      "text/html": [
       "<div>\n",
       "<style scoped>\n",
       "    .dataframe tbody tr th:only-of-type {\n",
       "        vertical-align: middle;\n",
       "    }\n",
       "\n",
       "    .dataframe tbody tr th {\n",
       "        vertical-align: top;\n",
       "    }\n",
       "\n",
       "    .dataframe thead th {\n",
       "        text-align: right;\n",
       "    }\n",
       "</style>\n",
       "<table border=\"1\" class=\"dataframe\">\n",
       "  <thead>\n",
       "    <tr style=\"text-align: right;\">\n",
       "      <th></th>\n",
       "      <th>Type</th>\n",
       "      <th>Severity</th>\n",
       "      <th>StartTime(UTC)</th>\n",
       "      <th>EndTime(UTC)</th>\n",
       "      <th>City</th>\n",
       "    </tr>\n",
       "  </thead>\n",
       "  <tbody>\n",
       "    <tr>\n",
       "      <th>965</th>\n",
       "      <td>Rain</td>\n",
       "      <td>Light</td>\n",
       "      <td>2018-01-07 03:36:00</td>\n",
       "      <td>2018-01-07 03:54:00</td>\n",
       "      <td>Saguache</td>\n",
       "    </tr>\n",
       "    <tr>\n",
       "      <th>966</th>\n",
       "      <td>Snow</td>\n",
       "      <td>Light</td>\n",
       "      <td>2018-01-07 03:54:00</td>\n",
       "      <td>2018-01-07 07:12:00</td>\n",
       "      <td>Saguache</td>\n",
       "    </tr>\n",
       "    <tr>\n",
       "      <th>967</th>\n",
       "      <td>Snow</td>\n",
       "      <td>Light</td>\n",
       "      <td>2018-01-11 03:36:00</td>\n",
       "      <td>2018-01-11 03:54:00</td>\n",
       "      <td>Saguache</td>\n",
       "    </tr>\n",
       "    <tr>\n",
       "      <th>968</th>\n",
       "      <td>Snow</td>\n",
       "      <td>Light</td>\n",
       "      <td>2018-01-12 13:54:00</td>\n",
       "      <td>2018-01-12 15:12:00</td>\n",
       "      <td>Saguache</td>\n",
       "    </tr>\n",
       "    <tr>\n",
       "      <th>969</th>\n",
       "      <td>Snow</td>\n",
       "      <td>Light</td>\n",
       "      <td>2018-01-12 15:54:00</td>\n",
       "      <td>2018-01-12 16:36:00</td>\n",
       "      <td>Saguache</td>\n",
       "    </tr>\n",
       "    <tr>\n",
       "      <th>...</th>\n",
       "      <td>...</td>\n",
       "      <td>...</td>\n",
       "      <td>...</td>\n",
       "      <td>...</td>\n",
       "      <td>...</td>\n",
       "    </tr>\n",
       "    <tr>\n",
       "      <th>6273396</th>\n",
       "      <td>Snow</td>\n",
       "      <td>Light</td>\n",
       "      <td>2019-01-28 09:02:00</td>\n",
       "      <td>2019-01-28 09:53:00</td>\n",
       "      <td>Lander</td>\n",
       "    </tr>\n",
       "    <tr>\n",
       "      <th>6273397</th>\n",
       "      <td>Snow</td>\n",
       "      <td>Moderate</td>\n",
       "      <td>2019-01-28 09:53:00</td>\n",
       "      <td>2019-01-28 12:04:00</td>\n",
       "      <td>Lander</td>\n",
       "    </tr>\n",
       "    <tr>\n",
       "      <th>6273398</th>\n",
       "      <td>Snow</td>\n",
       "      <td>Light</td>\n",
       "      <td>2019-01-28 12:04:00</td>\n",
       "      <td>2019-01-28 12:53:00</td>\n",
       "      <td>Lander</td>\n",
       "    </tr>\n",
       "    <tr>\n",
       "      <th>6273399</th>\n",
       "      <td>Snow</td>\n",
       "      <td>Moderate</td>\n",
       "      <td>2019-01-28 12:53:00</td>\n",
       "      <td>2019-01-28 13:25:00</td>\n",
       "      <td>Lander</td>\n",
       "    </tr>\n",
       "    <tr>\n",
       "      <th>6273400</th>\n",
       "      <td>Snow</td>\n",
       "      <td>Light</td>\n",
       "      <td>2019-01-28 13:25:00</td>\n",
       "      <td>2019-01-28 16:53:00</td>\n",
       "      <td>Lander</td>\n",
       "    </tr>\n",
       "  </tbody>\n",
       "</table>\n",
       "<p>1449187 rows × 5 columns</p>\n",
       "</div>"
      ],
      "text/plain": [
       "         Type  Severity      StartTime(UTC)        EndTime(UTC)      City\n",
       "965      Rain     Light 2018-01-07 03:36:00 2018-01-07 03:54:00  Saguache\n",
       "966      Snow     Light 2018-01-07 03:54:00 2018-01-07 07:12:00  Saguache\n",
       "967      Snow     Light 2018-01-11 03:36:00 2018-01-11 03:54:00  Saguache\n",
       "968      Snow     Light 2018-01-12 13:54:00 2018-01-12 15:12:00  Saguache\n",
       "969      Snow     Light 2018-01-12 15:54:00 2018-01-12 16:36:00  Saguache\n",
       "...       ...       ...                 ...                 ...       ...\n",
       "6273396  Snow     Light 2019-01-28 09:02:00 2019-01-28 09:53:00    Lander\n",
       "6273397  Snow  Moderate 2019-01-28 09:53:00 2019-01-28 12:04:00    Lander\n",
       "6273398  Snow     Light 2019-01-28 12:04:00 2019-01-28 12:53:00    Lander\n",
       "6273399  Snow  Moderate 2019-01-28 12:53:00 2019-01-28 13:25:00    Lander\n",
       "6273400  Snow     Light 2019-01-28 13:25:00 2019-01-28 16:53:00    Lander\n",
       "\n",
       "[1449187 rows x 5 columns]"
      ]
     },
     "execution_count": 18,
     "metadata": {},
     "output_type": "execute_result"
    }
   ],
   "source": [
    "weather12"
   ]
  },
  {
   "cell_type": "code",
   "execution_count": 19,
   "metadata": {},
   "outputs": [],
   "source": [
    "weather12.to_csv(r'C:\\Users\\kevin\\data_bootcamp\\w5\\d5\\mid-term-project-I-master/weather.csv', index=False, header=True)"
   ]
  },
  {
   "cell_type": "markdown",
   "metadata": {},
   "source": [
    "### test set grab from flights_test"
   ]
  },
  {
   "cell_type": "code",
   "execution_count": 5,
   "metadata": {},
   "outputs": [],
   "source": [
    "flights_test = pd.read_sql_query('''SELECT * FROM flights_test;''', database)"
   ]
  },
  {
   "cell_type": "code",
   "execution_count": 6,
   "metadata": {},
   "outputs": [],
   "source": [
    "flights_test.to_csv(r'C:\\Users\\kevin\\data_bootcamp\\w5\\d5\\mid-term-project-I-master/flights_test.csv', index=False, header=True)"
   ]
  }
 ],
 "metadata": {
  "kernelspec": {
   "display_name": "Python 3",
   "language": "python",
   "name": "python3"
  },
  "language_info": {
   "codemirror_mode": {
    "name": "ipython",
    "version": 3
   },
   "file_extension": ".py",
   "mimetype": "text/x-python",
   "name": "python",
   "nbconvert_exporter": "python",
   "pygments_lexer": "ipython3",
   "version": "3.8.5"
  }
 },
 "nbformat": 4,
 "nbformat_minor": 4
}
